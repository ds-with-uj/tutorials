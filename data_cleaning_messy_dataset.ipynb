{
 "cells": [
  {
   "cell_type": "markdown",
   "id": "e7a30963",
   "metadata": {},
   "source": [
    "This notebook contains the code needed to create a practice messy dataset to practice data cleaning. The actual dataset is pretty clean by default, so this notebooks introduces messiness to practice clean-up steps. The original dataset can be found here: https://www.kaggle.com/datasets/jessemostipak/hotel-booking-demand"
   ]
  },
  {
   "cell_type": "code",
   "execution_count": 1,
   "id": "1334c6c7",
   "metadata": {},
   "outputs": [],
   "source": [
    "#import pandas\n",
    "import pandas as pd"
   ]
  },
  {
   "cell_type": "code",
   "execution_count": null,
   "id": "4b7480da",
   "metadata": {},
   "outputs": [],
   "source": [
    "#Steps to make the data messy.\n",
    "#The original dataset is pretty clean, to practice the data cleaning steps, we can make the data a bit messy using these steps\n",
    "\n",
    "hotel_bookings_clean = pd.read_csv('hotel_bookings.csv')\n",
    "\n",
    "hotel_bookings_messy = hotel_bookings_clean.copy()\n",
    "\n",
    "#Change some of the int dtypes to floats and some to strings\n",
    "hotel_bookings_messy['lead_time'] = hotel_bookings_messy['lead_time'].astype('str')\n",
    "\n",
    "#Combine arrival date and month and drop separate columns\n",
    "hotel_bookings_messy['arrival_date'] = hotel_bookings_messy['arrival_date_month'] + \"-\" + hotel_bookings_messy['arrival_date_year'].astype('str')\n",
    "hotel_bookings_messy.drop(columns = ['arrival_date_month', 'arrival_date_year'], inplace=True)\n",
    "\n",
    "column_to_move = hotel_bookings_messy.pop('arrival_date')\n",
    "hotel_bookings_messy.insert(3, 'arrival_date', column_to_move)\n",
    "\n",
    "#Add random special characters\n",
    "indexes = hotel_bookings_messy['hotel'].sample(10000).index.tolist()\n",
    "character_to_add = '^'\n",
    "hotel_bookings_messy.loc[indexes, 'hotel'] = character_to_add + hotel_bookings_messy['hotel']\n",
    "\n",
    "\n",
    "indexes = hotel_bookings_messy['hotel'].sample(10000).index.tolist()\n",
    "character_to_add = '**'\n",
    "hotel_bookings_messy.loc[indexes, 'hotel'] = hotel_bookings_messy['hotel'] + character_to_add \n",
    "\n",
    "indexes = hotel_bookings_messy['hotel'].sample(10000).index.tolist()\n",
    "character_to_add = '\\n'\n",
    "hotel_bookings_messy.loc[indexes, 'hotel'] = hotel_bookings_messy['hotel'] + character_to_add \n",
    "\n",
    "#Save to csv to read in the next step, comment out once you do this\n",
    "hotel_bookings_messy.to_csv('hotel_bookings_messy.csv')"
   ]
  }
 ],
 "metadata": {
  "kernelspec": {
   "display_name": "Python 3",
   "language": "python",
   "name": "python3"
  },
  "language_info": {
   "codemirror_mode": {
    "name": "ipython",
    "version": 3
   },
   "file_extension": ".py",
   "mimetype": "text/x-python",
   "name": "python",
   "nbconvert_exporter": "python",
   "pygments_lexer": "ipython3",
   "version": "3.10.8"
  }
 },
 "nbformat": 4,
 "nbformat_minor": 5
}
