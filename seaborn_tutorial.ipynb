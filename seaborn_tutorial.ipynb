{
 "cells": [
  {
   "cell_type": "code",
   "execution_count": null,
   "id": "8caf6bdd",
   "metadata": {},
   "outputs": [],
   "source": [
    "! pip install seaborn"
   ]
  },
  {
   "cell_type": "code",
   "execution_count": null,
   "id": "3da934a8",
   "metadata": {},
   "outputs": [],
   "source": [
    "import seaborn as sns\n",
    "import pandas as pd\n",
    "import matplotlib.pyplot as plt"
   ]
  },
  {
   "cell_type": "code",
   "execution_count": null,
   "id": "a0711436",
   "metadata": {},
   "outputs": [],
   "source": [
    "coffee_sales = pd.read_csv('Coffee_sales.csv')\n",
    "coffee_sales.head()"
   ]
  },
  {
   "cell_type": "code",
   "execution_count": null,
   "id": "ccf89121",
   "metadata": {},
   "outputs": [],
   "source": [
    "plt.figure(figsize=(8, 5))\n",
    "\n",
    "sns.histplot(\n",
    "    data=coffee_sales,\n",
    "    x='money',\n",
    "    bins=10,\n",
    "    kde=True,\n",
    "    color='blue'\n",
    ")\n",
    "\n",
    "plt.title('Distribution of Amount Paid', fontsize=14)\n",
    "plt.xlabel('Amount Paid ($)')\n",
    "plt.ylabel('Frequency')\n",
    "\n",
    "plt.show()"
   ]
  },
  {
   "cell_type": "code",
   "execution_count": null,
   "id": "467ce9e8",
   "metadata": {},
   "outputs": [],
   "source": [
    "plt.figure(figsize=(8, 5))\n",
    "\n",
    "sns.boxplot(\n",
    "    data=coffee_sales,\n",
    "    x='Time_of_Day',\n",
    "    y='money',\n",
    "    hue='Time_of_Day',\n",
    "    palette='Set1'\n",
    ")\n",
    "\n",
    "plt.title(\"Amount Spent by Time of Day\")\n",
    "plt.xlabel(\"Time of Day\")\n",
    "plt.ylabel(\"Amount Spent ($)\")\n",
    "\n",
    "plt.show()"
   ]
  },
  {
   "cell_type": "code",
   "execution_count": null,
   "id": "4d46ccce",
   "metadata": {},
   "outputs": [],
   "source": [
    "coffee_sales['transaction_count'] = 1\n",
    "\n",
    "plt.figure(figsize=(8, 5))\n",
    "\n",
    "sns.barplot(\n",
    "    data=coffee_sales,\n",
    "    x='Time_of_Day',\n",
    "    y='transaction_count',\n",
    "    hue='coffee_name',\n",
    "    estimator='sum',\n",
    "    palette='Set1'\n",
    ")\n",
    "\n",
    "plt.title('Number of Transactions by Time of Day', fontsize=14)\n",
    "plt.xlabel('Time of Day')\n",
    "plt.ylabel('Transaction Count')\n",
    "plt.legend(title='Drink Type', bbox_to_anchor=(1.05, 1), loc='upper left')\n",
    "plt.show()"
   ]
  },
  {
   "cell_type": "code",
   "execution_count": null,
   "id": "46f40e35",
   "metadata": {},
   "outputs": [],
   "source": [
    "coffee_sales_by_hour = coffee_sales.groupby('hour_of_day')['money'].sum().reset_index()\n",
    "coffee_sales_by_hour"
   ]
  },
  {
   "cell_type": "code",
   "execution_count": null,
   "id": "15a673c5",
   "metadata": {},
   "outputs": [],
   "source": [
    "plt.figure(figsize=(8, 5))\n",
    "\n",
    "sns.lineplot(\n",
    "    data=coffee_sales_by_hour,\n",
    "    x='hour_of_day',\n",
    "    y='money',\n",
    "    marker='o',\n",
    "    color='blue'\n",
    ")\n",
    "\n",
    "plt.title('Coffee Sales by Hour', fontsize=14)\n",
    "plt.xlabel('Hour')\n",
    "plt.ylabel('Total Sales ($)')\n",
    "\n",
    "plt.tight_layout()\n",
    "plt.show()"
   ]
  },
  {
   "cell_type": "code",
   "execution_count": null,
   "id": "256eabfa",
   "metadata": {},
   "outputs": [],
   "source": [
    "plt.figure(figsize=(8, 5))\n",
    "\n",
    "sns.scatterplot(\n",
    "    data=coffee_sales_by_hour,\n",
    "    x='hour_of_day',\n",
    "    y='money',\n",
    "    marker='+',\n",
    "    color='blue'\n",
    ")"
   ]
  },
  {
   "cell_type": "code",
   "execution_count": null,
   "id": "e6d119e0",
   "metadata": {},
   "outputs": [],
   "source": [
    "day_totals = coffee_sales.groupby(['Weekday', 'Weekdaysort'])['money'].sum().reset_index().sort_values('Weekdaysort')\n",
    "day_totals"
   ]
  },
  {
   "cell_type": "code",
   "execution_count": null,
   "id": "b064fc53",
   "metadata": {},
   "outputs": [],
   "source": [
    "heatmap_data = day_totals['money'].values.reshape(1, -1)\n",
    "heatmap_data"
   ]
  },
  {
   "cell_type": "code",
   "execution_count": null,
   "id": "79d3fe24",
   "metadata": {},
   "outputs": [],
   "source": [
    "plt.figure(figsize=(10, 2))\n",
    "\n",
    "sns.heatmap(\n",
    "    data=heatmap_data,\n",
    "    cmap='Reds',\n",
    "    annot=True,\n",
    "    fmt=\".0f\",\n",
    "    xticklabels=day_totals['Weekday'],\n",
    "    yticklabels=[]\n",
    ")\n",
    "\n",
    "plt.xlabel('Day of Week')\n",
    "plt.title('Total Spent by Day of Week')\n",
    "plt.show()"
   ]
  }
 ],
 "metadata": {
  "kernelspec": {
   "display_name": "Python 3",
   "language": "python",
   "name": "python3"
  },
  "language_info": {
   "codemirror_mode": {
    "name": "ipython",
    "version": 3
   },
   "file_extension": ".py",
   "mimetype": "text/x-python",
   "name": "python",
   "nbconvert_exporter": "python",
   "pygments_lexer": "ipython3",
   "version": "3.13.3"
  }
 },
 "nbformat": 4,
 "nbformat_minor": 5
}
